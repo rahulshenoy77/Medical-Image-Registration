{
 "cells": [
  {
   "cell_type": "code",
   "execution_count": 1,
   "metadata": {},
   "outputs": [],
   "source": [
    "import tensorflow as tf\n",
    "import sys\n",
    "\n",
    "import numpy as np\n",
    "\n",
    "import labelreg.helpers as helper\n",
    "import labelreg.networks as network\n",
    "import labelreg.apps as app\n",
    "import labelreg.utils as util\n",
    "import labelreg.losses as loss\n",
    "\n",
    "def find_test_metrics(mov_img_dir,fix_img_dir,mov_lab_dir,fix_lab_dir,mod_dir):\n",
    "    tf.reset_default_graph()\n",
    "\n",
    "    # 1 - images to register\n",
    "    reader_moving_image, reader_fixed_image, reader_moving_label, reader_fixed_label = helper.get_data_readers(mov_img_dir,\n",
    "                                                                                                               fix_img_dir,\n",
    "                                                                                                              mov_lab_dir,\n",
    "                                                                                                              fix_lab_dir)\n",
    "\n",
    "    # 2 - graph\n",
    "    # network for predicting ddf only\n",
    "    ph_moving_image = tf.placeholder(tf.float32, [reader_moving_image.num_data]+reader_moving_image.data_shape+[1])\n",
    "    ph_fixed_image = tf.placeholder(tf.float32, [reader_fixed_image.num_data]+reader_fixed_image.data_shape+[1])\n",
    "\n",
    "    reg_net = network.build_network(network_type='local',\n",
    "                                    minibatch_size=reader_moving_image.num_data,\n",
    "                                    image_moving=ph_moving_image,\n",
    "                                    image_fixed=ph_fixed_image)\n",
    "\n",
    "    ph_moving_label = tf.placeholder(tf.float32, [reader_moving_image.num_data]+reader_moving_image.data_shape+[1])\n",
    "    ph_fixed_label = tf.placeholder(tf.float32, [reader_fixed_image.num_data]+reader_fixed_image.data_shape+[1])\n",
    "\n",
    "    warped_moving_label = reg_net.warp_image(ph_moving_label)\n",
    "\n",
    "    dice = util.compute_binary_dice(warped_moving_label, ph_fixed_label)\n",
    "    dist = util.compute_centroid_distance(warped_moving_label, ph_fixed_label)\n",
    "    # restore the trained weights\n",
    "    saver = tf.train.Saver()\n",
    "    sess = tf.Session()\n",
    "    saver.restore(sess, mod_dir)\n",
    "\n",
    "    test_labels = [1,12,18,19,23]\n",
    "    dist_net = []\n",
    "    for lidx in test_labels:\n",
    "        testFeed = {ph_moving_image: reader_moving_image.get_data(),\n",
    "                    ph_fixed_image: reader_fixed_image.get_data(),\n",
    "                   ph_moving_label: reader_moving_label.get_data(label_indices=[lidx]),\n",
    "                   ph_fixed_label: reader_fixed_label.get_data(label_indices=[lidx])}\n",
    "\n",
    "        distance = sess.run(dist,feed_dict=testFeed)\n",
    "        dist_net.append(distance)\n",
    "\n",
    "    median_distance = np.median(np.sqrt(np.mean(np.vstack(dist_net)**2,axis=0)))\n",
    "\n",
    "    testFeed = {ph_moving_image: reader_moving_image.get_data(),\n",
    "                ph_fixed_image: reader_fixed_image.get_data(),\n",
    "               ph_moving_label: reader_moving_label.get_data(label_indices=[1]),\n",
    "               ph_fixed_label: reader_fixed_label.get_data(label_indices=[1])}\n",
    "\n",
    "    median_dice = np.median(sess.run(dice,feed_dict=testFeed))\n",
    "    return median_distance,median_dice\n",
    "\n",
    "\n"
   ]
  },
  {
   "cell_type": "code",
   "execution_count": 2,
   "metadata": {},
   "outputs": [
    {
     "name": "stdout",
     "output_type": "stream",
     "text": [
      "INFO:tensorflow:Restoring parameters from C:\\Users\\rahul\\OneDrive\\Desktop\\Courses\\ECE209as\\Final Project\\label-reg-master\\labelreg\\ibsr v2\\data_final\\saved_model2\\model.ckpt\n"
     ]
    }
   ],
   "source": [
    "mov_img_dir = r'C:\\Users\\rahul\\OneDrive\\Desktop\\Courses\\ECE209as\\Final Project\\label-reg-master\\labelreg\\ibsr v2\\data_final\\test\\moving_images'\n",
    "fix_img_dir = r'C:\\Users\\rahul\\OneDrive\\Desktop\\Courses\\ECE209as\\Final Project\\label-reg-master\\labelreg\\ibsr v2\\data_final\\test\\fixed_images'\n",
    "\n",
    "# for test only\n",
    "mov_lab_dir = r'C:\\Users\\rahul\\OneDrive\\Desktop\\Courses\\ECE209as\\Final Project\\label-reg-master\\labelreg\\ibsr v2\\data_final\\test\\moving_labels'\n",
    "fix_lab_dir = r'C:\\Users\\rahul\\OneDrive\\Desktop\\Courses\\ECE209as\\Final Project\\label-reg-master\\labelreg\\ibsr v2\\data_final\\test\\fixed_labels'\n",
    "\n",
    "mod_dir =  r'C:\\Users\\rahul\\OneDrive\\Desktop\\Courses\\ECE209as\\Final Project\\label-reg-master\\labelreg\\ibsr v2\\data_final\\saved_model2\\model.ckpt'\n",
    "\n",
    "med_dist,med_dice = find_test_metrics(mov_img_dir,fix_img_dir,mov_lab_dir,fix_lab_dir,mod_dir)"
   ]
  },
  {
   "cell_type": "code",
   "execution_count": 3,
   "metadata": {},
   "outputs": [
    {
     "name": "stdout",
     "output_type": "stream",
     "text": [
      "Target registration error: 1.8690412044525146, Dice: 0.5674880743026733\n"
     ]
    }
   ],
   "source": [
    "print('Target registration error: {}, Dice: {}'.format(med_dist,med_dice))"
   ]
  },
  {
   "cell_type": "code",
   "execution_count": 4,
   "metadata": {},
   "outputs": [
    {
     "name": "stdout",
     "output_type": "stream",
     "text": [
      "INFO:tensorflow:Restoring parameters from C:\\Users\\rahul\\OneDrive\\Desktop\\Courses\\ECE209as\\Final Project\\label-reg-master\\labelreg\\ibsr v2\\data_final\\pruned_model2\\pruned_model2.ckpt\n",
      "After pruning Target registration error: 1.006929636001587, Dice: 0.6244825124740601\n"
     ]
    }
   ],
   "source": [
    "mod_dir =  r'C:\\Users\\rahul\\OneDrive\\Desktop\\Courses\\ECE209as\\Final Project\\label-reg-master\\labelreg\\ibsr v2\\data_final\\pruned_model2\\pruned_model2.ckpt'\n",
    "\n",
    "med_dist_pr,med_dice_pr = find_test_metrics(mov_img_dir,fix_img_dir,mov_lab_dir,fix_lab_dir,mod_dir)\n",
    "\n",
    "print('After pruning Target registration error: {}, Dice: {}'.format(med_dist_pr,med_dice_pr))"
   ]
  },
  {
   "cell_type": "code",
   "execution_count": 5,
   "metadata": {},
   "outputs": [
    {
     "name": "stdout",
     "output_type": "stream",
     "text": [
      "INFO:tensorflow:Restoring parameters from C:\\Users\\rahul\\OneDrive\\Desktop\\Courses\\ECE209as\\Final Project\\label-reg-master\\labelreg\\ibsr v2\\data_final\\pruned_model_retrain2\\model.ckpt\n",
      "After pruning and retraining Target registration error: 2.517721652984619, Dice: 0.5125890374183655\n"
     ]
    }
   ],
   "source": [
    "mod_dir =  r'C:\\Users\\rahul\\OneDrive\\Desktop\\Courses\\ECE209as\\Final Project\\label-reg-master\\labelreg\\ibsr v2\\data_final\\pruned_model_retrain2\\model.ckpt'\n",
    "\n",
    "med_dist_pr,med_dice_pr = find_test_metrics(mov_img_dir,fix_img_dir,mov_lab_dir,fix_lab_dir,mod_dir)\n",
    "\n",
    "print('After pruning and retraining Target registration error: {}, Dice: {}'.format(med_dist_pr,med_dice_pr))"
   ]
  },
  {
   "cell_type": "code",
   "execution_count": 6,
   "metadata": {},
   "outputs": [
    {
     "name": "stdout",
     "output_type": "stream",
     "text": [
      "INFO:tensorflow:Restoring parameters from C:\\Users\\rahul\\OneDrive\\Desktop\\Courses\\ECE209as\\Final Project\\label-reg-master\\labelreg\\ibsr v2\\data_final\\quantized_model2\\model.ckpt\n",
      "After quantization Target registration error: 2.517721652984619, Dice: 0.5125890374183655\n"
     ]
    }
   ],
   "source": [
    "mod_dir =  r'C:\\Users\\rahul\\OneDrive\\Desktop\\Courses\\ECE209as\\Final Project\\label-reg-master\\labelreg\\ibsr v2\\data_final\\quantized_model2\\model.ckpt'\n",
    "\n",
    "med_dist_pr,med_dice_pr = find_test_metrics(mov_img_dir,fix_img_dir,mov_lab_dir,fix_lab_dir,mod_dir)\n",
    "\n",
    "print('After quantization Target registration error: {}, Dice: {}'.format(med_dist_pr,med_dice_pr))"
   ]
  },
  {
   "cell_type": "code",
   "execution_count": 7,
   "metadata": {},
   "outputs": [
    {
     "name": "stdout",
     "output_type": "stream",
     "text": [
      "INFO:tensorflow:Restoring parameters from C:\\Users\\rahul\\OneDrive\\Desktop\\Courses\\ECE209as\\Final Project\\label-reg-master\\labelreg\\ibsr v2\\data_final\\saved_model3\\model.ckpt\n",
      "Target registration error: 2.619112491607666, Dice: 0.4747452735900879\n"
     ]
    }
   ],
   "source": [
    "mod_dir =  r'C:\\Users\\rahul\\OneDrive\\Desktop\\Courses\\ECE209as\\Final Project\\label-reg-master\\labelreg\\ibsr v2\\data_final\\saved_model3\\model.ckpt'\n",
    "\n",
    "med_dist,med_dice = find_test_metrics(mov_img_dir,fix_img_dir,mov_lab_dir,fix_lab_dir,mod_dir)\n",
    "print('Target registration error: {}, Dice: {}'.format(med_dist,med_dice))"
   ]
  },
  {
   "cell_type": "code",
   "execution_count": 8,
   "metadata": {},
   "outputs": [
    {
     "name": "stdout",
     "output_type": "stream",
     "text": [
      "INFO:tensorflow:Restoring parameters from C:\\Users\\rahul\\OneDrive\\Desktop\\Courses\\ECE209as\\Final Project\\label-reg-master\\labelreg\\ibsr v2\\data_final\\pruned_model3\\pruned_model3.ckpt\n",
      "After Pruning Target registration error: 1.092018723487854, Dice: 0.6238847970962524\n"
     ]
    }
   ],
   "source": [
    "mod_dir =  r'C:\\Users\\rahul\\OneDrive\\Desktop\\Courses\\ECE209as\\Final Project\\label-reg-master\\labelreg\\ibsr v2\\data_final\\pruned_model3\\pruned_model3.ckpt'\n",
    "\n",
    "med_dist,med_dice = find_test_metrics(mov_img_dir,fix_img_dir,mov_lab_dir,fix_lab_dir,mod_dir)\n",
    "print('After Pruning Target registration error: {}, Dice: {}'.format(med_dist,med_dice))"
   ]
  },
  {
   "cell_type": "code",
   "execution_count": 2,
   "metadata": {},
   "outputs": [
    {
     "name": "stdout",
     "output_type": "stream",
     "text": [
      "INFO:tensorflow:Restoring parameters from C:\\Users\\rahul\\OneDrive\\Desktop\\Courses\\ECE209as\\Final Project\\label-reg-master\\labelreg\\ibsr v2\\data_final\\saved_model4\\model.ckpt\n",
      "Target registration error: 2.440162420272827, Dice: 0.4699794352054596\n"
     ]
    }
   ],
   "source": [
    "mov_img_dir = r'C:\\Users\\rahul\\OneDrive\\Desktop\\Courses\\ECE209as\\Final Project\\label-reg-master\\labelreg\\ibsr v2\\data_final\\test\\moving_images'\n",
    "fix_img_dir = r'C:\\Users\\rahul\\OneDrive\\Desktop\\Courses\\ECE209as\\Final Project\\label-reg-master\\labelreg\\ibsr v2\\data_final\\test\\fixed_images'\n",
    "\n",
    "# for test only\n",
    "mov_lab_dir = r'C:\\Users\\rahul\\OneDrive\\Desktop\\Courses\\ECE209as\\Final Project\\label-reg-master\\labelreg\\ibsr v2\\data_final\\test\\moving_labels'\n",
    "fix_lab_dir = r'C:\\Users\\rahul\\OneDrive\\Desktop\\Courses\\ECE209as\\Final Project\\label-reg-master\\labelreg\\ibsr v2\\data_final\\test\\fixed_labels'\n",
    "\n",
    "mod_dir =  r'C:\\Users\\rahul\\OneDrive\\Desktop\\Courses\\ECE209as\\Final Project\\label-reg-master\\labelreg\\ibsr v2\\data_final\\saved_model4\\model.ckpt'\n",
    "\n",
    "med_dist,med_dice = find_test_metrics(mov_img_dir,fix_img_dir,mov_lab_dir,fix_lab_dir,mod_dir)\n",
    "print('Target registration error: {}, Dice: {}'.format(med_dist,med_dice))"
   ]
  },
  {
   "cell_type": "code",
   "execution_count": 3,
   "metadata": {},
   "outputs": [
    {
     "name": "stdout",
     "output_type": "stream",
     "text": [
      "INFO:tensorflow:Restoring parameters from C:\\Users\\rahul\\OneDrive\\Desktop\\Courses\\ECE209as\\Final Project\\label-reg-master\\labelreg\\ibsr v2\\data_final\\pruned_model4\\model.ckpt\n",
      "After Pruning Target registration error: 1.205574631690979, Dice: 0.6047003269195557\n"
     ]
    }
   ],
   "source": [
    "mod_dir =  r'C:\\Users\\rahul\\OneDrive\\Desktop\\Courses\\ECE209as\\Final Project\\label-reg-master\\labelreg\\ibsr v2\\data_final\\pruned_model4\\model.ckpt'\n",
    "\n",
    "med_dist,med_dice = find_test_metrics(mov_img_dir,fix_img_dir,mov_lab_dir,fix_lab_dir,mod_dir)\n",
    "print('After Pruning Target registration error: {}, Dice: {}'.format(med_dist,med_dice))"
   ]
  },
  {
   "cell_type": "code",
   "execution_count": null,
   "metadata": {},
   "outputs": [],
   "source": []
  }
 ],
 "metadata": {
  "kernelspec": {
   "display_name": "Python 3",
   "language": "python",
   "name": "python3"
  },
  "language_info": {
   "codemirror_mode": {
    "name": "ipython",
    "version": 3
   },
   "file_extension": ".py",
   "mimetype": "text/x-python",
   "name": "python",
   "nbconvert_exporter": "python",
   "pygments_lexer": "ipython3",
   "version": "3.6.8"
  }
 },
 "nbformat": 4,
 "nbformat_minor": 2
}
