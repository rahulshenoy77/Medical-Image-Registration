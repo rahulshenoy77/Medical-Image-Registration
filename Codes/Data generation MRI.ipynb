{
 "cells": [
  {
   "cell_type": "code",
   "execution_count": 1,
   "metadata": {},
   "outputs": [],
   "source": [
    "import numpy as np\n",
    "import nibabel as nib\n",
    "import os\n",
    "import configparser"
   ]
  },
  {
   "cell_type": "code",
   "execution_count": 2,
   "metadata": {},
   "outputs": [
    {
     "name": "stdout",
     "output_type": "stream",
     "text": [
      "['case_00.nii.gz', 'case_01.nii.gz', 'case_02.nii.gz', 'case_03.nii.gz', 'case_04.nii.gz', 'case_05.nii.gz', 'case_06.nii.gz', 'case_07.nii.gz', 'case_08.nii.gz', 'case_09.nii.gz', 'case_10.nii.gz', 'case_11.nii.gz', 'case_12.nii.gz', 'case_13.nii.gz', 'case_14.nii.gz', 'case_15.nii.gz', 'case_16.nii.gz', 'case_17.nii.gz']\n"
     ]
    }
   ],
   "source": [
    "dir_name = r'C:\\Users\\rahul\\OneDrive\\Desktop\\Courses\\ECE209as\\Final Project\\label-reg-master\\labelreg\\ibsr v2\\data'\n",
    "files = os.listdir(dir_name)\n",
    "files.sort()\n",
    "num_data = len(files)\n",
    "\n",
    "file_objects = [nib.load(os.path.join(dir_name, files[i])) for i in range(num_data)]\n",
    "num_labels = [file_objects[i].shape[3] if len(file_objects[i].shape) == 4\n",
    "                   else 1\n",
    "                   for i in range(num_data)]\n",
    "\n",
    "data_shape = list(file_objects[0].shape[0:3])\n",
    "print(files)"
   ]
  },
  {
   "cell_type": "code",
   "execution_count": 3,
   "metadata": {},
   "outputs": [
    {
     "name": "stdout",
     "output_type": "stream",
     "text": [
      "['case_00.nii.gz', 'case_01.nii.gz', 'case_02.nii.gz', 'case_03.nii.gz', 'case_04.nii.gz', 'case_05.nii.gz', 'case_06.nii.gz', 'case_07.nii.gz', 'case_08.nii.gz', 'case_09.nii.gz', 'case_10.nii.gz', 'case_11.nii.gz', 'case_12.nii.gz', 'case_13.nii.gz', 'case_14.nii.gz', 'case_15.nii.gz', 'case_16.nii.gz', 'case_17.nii.gz']\n"
     ]
    }
   ],
   "source": [
    "label_dir_name = r'C:\\Users\\rahul\\OneDrive\\Desktop\\Courses\\ECE209as\\Final Project\\label-reg-master\\labelreg\\ibsr v2\\label_2'\n",
    "label_files = os.listdir(label_dir_name)\n",
    "label_files.sort()\n",
    "label_num_data = len(label_files)\n",
    "\n",
    "label_file_objects = [nib.load(os.path.join(label_dir_name, label_files[i])) for i in range(label_num_data)]\n",
    "\n",
    "label_data_shape = list(label_file_objects[0].shape[0:3])\n",
    "print(label_files)"
   ]
  },
  {
   "cell_type": "code",
   "execution_count": 4,
   "metadata": {},
   "outputs": [
    {
     "name": "stdout",
     "output_type": "stream",
     "text": [
      "[ 5  4  0 11  7]\n",
      "5\n",
      "4\n",
      "0\n",
      "11\n",
      "7\n",
      "11\n",
      "7\n",
      "5\n",
      "4\n",
      "0\n",
      "13\n",
      "5\n"
     ]
    }
   ],
   "source": [
    "train_dir = r'C:\\Users\\rahul\\OneDrive\\Desktop\\Courses\\ECE209as\\Final Project\\label-reg-master\\labelreg\\ibsr v2\\data_final\\train'\n",
    "if not os.path.exists(train_dir):\n",
    "    os.mkdir(train_dir)\n",
    "train_fixed_image_dir = r'C:\\Users\\rahul\\OneDrive\\Desktop\\Courses\\ECE209as\\Final Project\\label-reg-master\\labelreg\\ibsr v2\\data_final\\train\\fixed_images'\n",
    "if not os.path.exists(train_fixed_image_dir):\n",
    "    os.mkdir(train_fixed_image_dir)\n",
    "train_moving_image_dir = r'C:\\Users\\rahul\\OneDrive\\Desktop\\Courses\\ECE209as\\Final Project\\label-reg-master\\labelreg\\ibsr v2\\data_final\\train\\moving_images'\n",
    "if not os.path.exists(train_moving_image_dir):\n",
    "    os.mkdir(train_moving_image_dir)\n",
    "train_fixed_labels_dir = r'C:\\Users\\rahul\\OneDrive\\Desktop\\Courses\\ECE209as\\Final Project\\label-reg-master\\labelreg\\ibsr v2\\data_final\\train\\fixed_labels'\n",
    "if not os.path.exists(train_fixed_labels_dir):\n",
    "    os.mkdir(train_fixed_labels_dir)\n",
    "train_moving_labels_dir = r'C:\\Users\\rahul\\OneDrive\\Desktop\\Courses\\ECE209as\\Final Project\\label-reg-master\\labelreg\\ibsr v2\\data_final\\train\\moving_labels'\n",
    "if not os.path.exists(train_moving_labels_dir):\n",
    "    os.mkdir(train_moving_labels_dir)\n",
    "test_dir = r'C:\\Users\\rahul\\OneDrive\\Desktop\\Courses\\ECE209as\\Final Project\\label-reg-master\\labelreg\\ibsr v2\\data_final\\test'\n",
    "if not os.path.exists(test_dir):\n",
    "    os.mkdir(test_dir)\n",
    "test_fixed_image_dir = r'C:\\Users\\rahul\\OneDrive\\Desktop\\Courses\\ECE209as\\Final Project\\label-reg-master\\labelreg\\ibsr v2\\data_final\\test\\fixed_images'\n",
    "if not os.path.exists(test_fixed_image_dir):\n",
    "    os.mkdir(test_fixed_image_dir)\n",
    "test_moving_image_dir = r'C:\\Users\\rahul\\OneDrive\\Desktop\\Courses\\ECE209as\\Final Project\\label-reg-master\\labelreg\\ibsr v2\\data_final\\test\\moving_images'\n",
    "if not os.path.exists(test_moving_image_dir):\n",
    "    os.mkdir(test_moving_image_dir)\n",
    "test_fixed_labels_dir = r'C:\\Users\\rahul\\OneDrive\\Desktop\\Courses\\ECE209as\\Final Project\\label-reg-master\\labelreg\\ibsr v2\\data_final\\test\\fixed_labels'\n",
    "if not os.path.exists(test_fixed_labels_dir):\n",
    "    os.mkdir(test_fixed_labels_dir)\n",
    "test_moving_labels_dir = r'C:\\Users\\rahul\\OneDrive\\Desktop\\Courses\\ECE209as\\Final Project\\label-reg-master\\labelreg\\ibsr v2\\data_final\\test\\moving_labels'\n",
    "if not os.path.exists(test_moving_labels_dir):\n",
    "    os.mkdir(test_moving_labels_dir)\n",
    "    \n",
    "test_idx = np.random.choice(18,5,replace=False)\n",
    "print(test_idx)\n",
    "test_file_objects = []\n",
    "test_label_file_objects = []\n",
    "train_file_objects = file_objects\n",
    "train_label_file_objects = label_file_objects\n",
    "\n",
    "for i in test_idx:\n",
    "    print(i)\n",
    "    test_file_objects.append(file_objects[i])\n",
    "    test_label_file_objects.append(label_file_objects[i])\n",
    "    \n",
    "for j in sorted(test_idx, reverse=True):\n",
    "    print(j)\n",
    "    train_file_objects.pop(j)\n",
    "    train_label_file_objects.pop(j)\n",
    "    \n",
    "print(len(train_file_objects))\n",
    "print(len(test_file_objects))\n",
    "\n"
   ]
  },
  {
   "cell_type": "code",
   "execution_count": 5,
   "metadata": {},
   "outputs": [
    {
     "name": "stdout",
     "output_type": "stream",
     "text": [
      "13\n",
      "5\n",
      "(64, 64, 32)\n",
      "(64, 64, 32)\n",
      "(64, 64, 32)\n",
      "(64, 64, 32)\n"
     ]
    }
   ],
   "source": [
    "# downsample\n",
    "\n",
    "train_num_data = len(train_file_objects)\n",
    "test_num_data = len(test_file_objects)\n",
    "img_new = []\n",
    "img_lab_new = []\n",
    "\n",
    "for i in range(train_num_data):\n",
    "    img = train_file_objects[i]\n",
    "    arr = img.get_fdata()\n",
    "    arr = arr[::4,::4,::4]\n",
    "    imgn = nib.Nifti1Image(arr,img.affine,img.header)\n",
    "    img_new.append(imgn)\n",
    "    img_lab = train_label_file_objects[i]\n",
    "    arr_lab = img_lab.get_fdata()\n",
    "    arr_lab = arr_lab[::4,::4,::4]\n",
    "    img_labn = nib.Nifti1Image(arr_lab,img_lab.affine,img_lab.header)\n",
    "    img_lab_new.append(img_labn)\n",
    "    \n",
    "train_file_objects = img_new\n",
    "train_label_file_objects = img_lab_new\n",
    "\n",
    "img_new = []\n",
    "img_lab_new = []\n",
    "\n",
    "for i in range(test_num_data):\n",
    "    img = test_file_objects[i]\n",
    "    arr = img.get_fdata()\n",
    "    arr = arr[::4,::4,::4]\n",
    "    imgn = nib.Nifti1Image(arr,img.affine,img.header)\n",
    "    img_new.append(imgn)\n",
    "    img_lab = test_label_file_objects[i]\n",
    "    arr_lab = img_lab.get_fdata()\n",
    "    arr_lab = arr_lab[::4,::4,::4]\n",
    "    img_labn = nib.Nifti1Image(arr_lab,img_lab.affine,img_lab.header)\n",
    "    img_lab_new.append(img_labn)\n",
    "    \n",
    "test_file_objects = img_new\n",
    "test_label_file_objects = img_lab_new\n",
    "\n",
    "print(len(train_file_objects))\n",
    "print(len(test_file_objects))\n",
    "\n",
    "print(train_file_objects[0].shape)\n",
    "print(train_label_file_objects[0].shape)\n",
    "print(test_file_objects[0].shape)\n",
    "print(test_label_file_objects[0].shape)\n",
    "    \n"
   ]
  },
  {
   "cell_type": "code",
   "execution_count": 8,
   "metadata": {},
   "outputs": [],
   "source": [
    "\n",
    "case_idx = 0\n",
    "for i in range(test_num_data):\n",
    "    for j in range(test_num_data):\n",
    "        if i!=j:\n",
    "            if case_idx<10:\n",
    "                fix_img_dir = test_fixed_image_dir+'\\case_00'+str(case_idx)+'.nii'\n",
    "                mov_img_dir = test_moving_image_dir+'\\case_00'+str(case_idx)+'.nii'\n",
    "                fix_lab_dir = test_fixed_labels_dir+'\\case_00'+str(case_idx)+'.nii'\n",
    "                mov_lab_dir = test_moving_labels_dir+'\\case_00'+str(case_idx)+'.nii'\n",
    "            elif case_idx<100:\n",
    "                fix_img_dir = test_fixed_image_dir+'\\case_0'+str(case_idx)+'.nii'\n",
    "                mov_img_dir = test_moving_image_dir+'\\case_0'+str(case_idx)+'.nii'\n",
    "                fix_lab_dir = test_fixed_labels_dir+'\\case_0'+str(case_idx)+'.nii'\n",
    "                mov_lab_dir = test_moving_labels_dir+'\\case_0'+str(case_idx)+'.nii'\n",
    "            else:\n",
    "                fix_img_dir = test_fixed_image_dir+'\\case_'+str(case_idx)+'.nii'\n",
    "                mov_img_dir = test_moving_image_dir+'\\case_'+str(case_idx)+'.nii'\n",
    "                fix_lab_dir = test_fixed_labels_dir+'\\case_'+str(case_idx)+'.nii'\n",
    "                mov_lab_dir = test_moving_labels_dir+'\\case_'+str(case_idx)+'.nii'\n",
    "            nib.save(test_file_objects[i],fix_img_dir)\n",
    "            nib.save(test_file_objects[j],mov_img_dir)\n",
    "            nib.save(test_label_file_objects[i],fix_lab_dir)\n",
    "            nib.save(test_label_file_objects[j],mov_lab_dir)\n",
    "            case_idx +=1\n",
    "            \n",
    "            \n",
    "case_idx = 0\n",
    "for i in range(train_num_data):\n",
    "    for j in range(train_num_data):\n",
    "        if i!=j:\n",
    "            if case_idx<10:\n",
    "                fix_img_dir = train_fixed_image_dir+'\\case_00'+str(case_idx)+'.nii'\n",
    "                mov_img_dir = train_moving_image_dir+'\\case_00'+str(case_idx)+'.nii'\n",
    "            elif case_idx<100:\n",
    "                fix_img_dir = train_fixed_image_dir+'\\case_0'+str(case_idx)+'.nii'\n",
    "                mov_img_dir = train_moving_image_dir+'\\case_0'+str(case_idx)+'.nii'\n",
    "            else:\n",
    "                fix_img_dir = train_fixed_image_dir+'\\case_'+str(case_idx)+'.nii'\n",
    "                mov_img_dir = train_moving_image_dir+'\\case_'+str(case_idx)+'.nii'\n",
    "            nib.save(train_file_objects[i],fix_img_dir)\n",
    "            nib.save(train_file_objects[j],mov_img_dir)\n",
    "            case_idx +=1\n",
    "            \n",
    "case_idx = 0\n",
    "for i in range(train_num_data):\n",
    "    for j in range(train_num_data):\n",
    "        if i!=j:\n",
    "            if case_idx<10:\n",
    "                fix_lab_dir = train_fixed_labels_dir+'\\case_00'+str(case_idx)+'.nii'\n",
    "                mov_lab_dir = train_moving_labels_dir+'\\case_00'+str(case_idx)+'.nii'\n",
    "            elif case_idx<100:\n",
    "                fix_lab_dir = train_fixed_labels_dir+'\\case_0'+str(case_idx)+'.nii'\n",
    "                mov_lab_dir = train_moving_labels_dir+'\\case_0'+str(case_idx)+'.nii'\n",
    "            else:\n",
    "                fix_lab_dir = train_fixed_labels_dir+'\\case_'+str(case_idx)+'.nii'\n",
    "                mov_lab_dir = train_moving_labels_dir+'\\case_'+str(case_idx)+'.nii'\n",
    "            nib.save(train_label_file_objects[i],fix_lab_dir)\n",
    "            nib.save(train_label_file_objects[j],mov_lab_dir)\n",
    "            case_idx +=1\n",
    "            "
   ]
  },
  {
   "cell_type": "code",
   "execution_count": null,
   "metadata": {},
   "outputs": [],
   "source": [
    "print(mov_lab_dir)\n",
    "nib.save(train_label_file_objects[j],mov_lab_dir)"
   ]
  },
  {
   "cell_type": "code",
   "execution_count": null,
   "metadata": {},
   "outputs": [],
   "source": [
    "print(j)"
   ]
  },
  {
   "cell_type": "code",
   "execution_count": null,
   "metadata": {},
   "outputs": [],
   "source": [
    "label3_dir = r'C:\\Users\\rahul\\OneDrive\\Desktop\\Courses\\ECE209as\\Final Project\\label-reg-master\\labelreg\\ibsr v2\\label_3'\n",
    "if not os.path.exists(label3_dir):\n",
    "    os.mkdir(label3_dir)\n",
    "for i in range(label_num_data):\n",
    "    arr_new = []\n",
    "    for j in range(1,32,1):\n",
    "        arr = label_file_objects[i].get_fdata()\n",
    "        arr = arr.astype('int')\n",
    "        mask = (arr == j)\n",
    "        mask = mask.astype('int')\n",
    "        arr_new.append(mask)\n",
    "    arr_new = np.stack(arr_new,axis=3)\n",
    "    arr_new = arr_new.astype('float')\n",
    "    img = label_file_objects[i]\n",
    "    new_img = nib.Nifti1Image(arr_new,img.affine,img.header)\n",
    "    if i<10:\n",
    "        save_dir = r'C:\\Users\\rahul\\OneDrive\\Desktop\\Courses\\ECE209as\\Final Project\\label-reg-master\\labelreg\\ibsr v2\\label_3\\case_0'+str(i)+'.nii.gz'\n",
    "    else:\n",
    "        save_dir = r'C:\\Users\\rahul\\OneDrive\\Desktop\\Courses\\ECE209as\\Final Project\\label-reg-master\\labelreg\\ibsr v2\\label_3\\case_'+str(i)+'.nii.gz'\n",
    "    nib.save(new_img,save_dir)\n",
    "    print(arr_new.shape)\n"
   ]
  },
  {
   "cell_type": "code",
   "execution_count": null,
   "metadata": {},
   "outputs": [],
   "source": [
    "label_dir_name = r'C:\\Users\\rahul\\OneDrive\\Desktop\\Courses\\ECE209as\\Final Project\\label-reg-master\\labelreg\\ibsr v2\\label_3'\n",
    "label_files = os.listdir(label_dir_name)\n",
    "label_files.sort()\n",
    "label_num_data = len(label_files)\n",
    "\n",
    "label_file_objects = [nib.load(os.path.join(label_dir_name, label_files[i])) for i in range(label_num_data)]\n",
    "\n",
    "label_data_shape = list(label_file_objects[0].shape[0:3])\n",
    "print(label_files)"
   ]
  },
  {
   "cell_type": "code",
   "execution_count": 7,
   "metadata": {},
   "outputs": [
    {
     "name": "stdout",
     "output_type": "stream",
     "text": [
      "31\n",
      "31\n",
      "31\n",
      "31\n",
      "31\n"
     ]
    }
   ],
   "source": [
    "for i in range(test_num_data):\n",
    "    num = 0\n",
    "    for j in range(1,32,1):\n",
    "        arr = test_label_file_objects[i].get_fdata()\n",
    "        arr = arr.astype('int')\n",
    "        mask = (arr == j)\n",
    "        mask = mask.astype('int')\n",
    "        if np.amax(mask)==1:\n",
    "            num +=1\n",
    "    print(num)"
   ]
  },
  {
   "cell_type": "code",
   "execution_count": null,
   "metadata": {},
   "outputs": [],
   "source": []
  }
 ],
 "metadata": {
  "kernelspec": {
   "display_name": "Python 3",
   "language": "python",
   "name": "python3"
  },
  "language_info": {
   "codemirror_mode": {
    "name": "ipython",
    "version": 3
   },
   "file_extension": ".py",
   "mimetype": "text/x-python",
   "name": "python",
   "nbconvert_exporter": "python",
   "pygments_lexer": "ipython3",
   "version": "3.6.8"
  }
 },
 "nbformat": 4,
 "nbformat_minor": 2
}
